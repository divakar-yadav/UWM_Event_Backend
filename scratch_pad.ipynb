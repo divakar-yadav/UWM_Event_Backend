{
 "cells": [
  {
   "cell_type": "code",
   "execution_count": null,
   "metadata": {},
   "outputs": [],
   "source": [
    "import csv\n",
    "import requests\n",
    "\n",
    "# Function to transform a single record to the required format\n",
    "def transform_record(record):\n",
    "    # Splitting 'Degree/Year' into separate values\n",
    "    # print(record)\n",
    "    year = None\n",
    "\n",
    "    \n",
    "    # Transforming the record into the expected JSON format\n",
    "    transformed = {\n",
    "        \"first_name\": record.get('Judge First Name'),\n",
    "        \"last_name\": record.get('Judge Last Name'),\n",
    "        \"title\": record.get('Judge Title'),\n",
    "        \"company\": record.get('Business Name'),\n",
    "        \"alumni\": True if record.get('Alum?') == 'Yes' else False,\n",
    "        \"year\": year,\n",
    "        \"degree\": record['Degree/Year'],\n",
    "        \"email\": record.get('Judge Email'),\n",
    "        \"password\": record.get('Judge Last Name').lower() + \"2024\",\n",
    "    }\n",
    "    return transformed\n",
    "\n",
    "# Function to post the transformed record to the API\n",
    "def post_record(record):\n",
    "    response = requests.post(\"http://127.0.0.1:8000/api/signup/\", json=record)\n",
    "    return response\n",
    "\n",
    "# Main function to read the CSV and process each record\n",
    "def process_csv(file_name):\n",
    "    with open(file_name, newline='', encoding='utf-8-sig') as csvfile:\n",
    "        reader = csv.DictReader(csvfile)\n",
    "        for row in reader:\n",
    "            transformed_record = transform_record(row)\n",
    "            # print(f\"Processed {transformed_record['password']}\")\n",
    "            response = post_record(transformed_record)\n",
    "            print(f\"Processed {transformed_record['email']} with response {response.status_code}\")\n",
    "\n",
    "# Replace 'judge_details.csv' with the path to your actual CSV file\n",
    "process_csv('judge_details.csv')\n"
   ]
  },
  {
   "cell_type": "code",
   "execution_count": null,
   "metadata": {},
   "outputs": [],
   "source": []
  }
 ],
 "metadata": {
  "kernelspec": {
   "display_name": "env",
   "language": "python",
   "name": "python3"
  },
  "language_info": {
   "codemirror_mode": {
    "name": "ipython",
    "version": 3
   },
   "file_extension": ".py",
   "mimetype": "text/x-python",
   "name": "python",
   "nbconvert_exporter": "python",
   "pygments_lexer": "ipython3",
   "version": "3.8.0"
  }
 },
 "nbformat": 4,
 "nbformat_minor": 2
}
